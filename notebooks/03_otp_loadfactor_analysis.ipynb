{
 "cells": [
  {
   "cell_type": "markdown",
   "id": "737f0a8c",
   "metadata": {},
   "source": [
    "# OTP vs. Load Factor Analysis: Southwest's Top 5 Routes\n",
    "\n",
    "This notebook analyzes the relationship between **Southwest Airlines' On-Time Performance (OTP)** and **Load Factor** on the top 5 domestic routes.\n",
    "\n",
    "**Research Question:**  \n",
    "How does Southwest's OTP relate to the Load Factor of its flights on the top 5 domestic routes?\n",
    "\n",
    "---\n",
    "\n",
    "## Import Libraries and Setup\n"
   ]
  },
  {
   "cell_type": "code",
   "execution_count": null,
   "id": "25ca6386",
   "metadata": {},
   "outputs": [],
   "source": [
    "import pandas as pd\n",
    "import numpy as np\n",
    "import matplotlib.pyplot as plt\n",
    "import seaborn as sns\n",
    "from scipy import stats\n",
    "import sys\n",
    "sys.path.append('..')\n",
    "\n",
    "from src import MetricsCalculator\n",
    "\n",
    "# Set display options\n",
    "pd.set_option('display.max_columns', None)\n",
    "pd.set_option('display.float_format', '{:.2f}'.format)\n",
    "\n",
    "# Set plotting style\n",
    "sns.set_style('whitegrid')\n",
    "plt.rcParams['figure.figsize'] = (12, 6)\n",
    "\n",
    "# %matplotlib inline"
   ]
  },
  {
   "cell_type": "markdown",
   "id": "d7e8dca2",
   "metadata": {},
   "source": [
    "---\n"
   ]
  },
  {
   "cell_type": "markdown",
   "id": "779ac7bf",
   "metadata": {},
   "source": [
    "### Cell 1. Load Top 5 Routes Data"
   ]
  },
  {
   "cell_type": "code",
   "execution_count": null,
   "id": "483f16fb",
   "metadata": {},
   "outputs": [],
   "source": [
    "# Load processed data\n",
    "lf_top5 = pd.read_csv('../data/processed/lf_top5_routes.csv')\n",
    "otp_top5 = pd.read_csv('../data/processed/otp_top5_routes.csv')\n",
    "top_routes = pd.read_csv('../data/processed/top5_routes.csv')['ROUTE'].tolist()\n",
    "\n",
    "# Convert dates\n",
    "lf_top5['DATE'] = pd.to_datetime(lf_top5['DATE'])\n",
    "otp_top5['DATE'] = pd.to_datetime(otp_top5['DATE'])\n",
    "\n",
    "print(f\"Top 5 Routes: {', '.join(top_routes)}\")\n",
    "print(f\"\\nLoad Factor records: {len(lf_top5):,}\")\n",
    "print(f\"OTP records: {len(otp_top5):,}\")"
   ]
  },
  {
   "cell_type": "markdown",
   "id": "9fa96510",
   "metadata": {},
   "source": [
    "---\n"
   ]
  },
  {
   "cell_type": "markdown",
   "id": "fd13d06d",
   "metadata": {},
   "source": [
    "### Cell 2. Merge Load Factor and OTP Data"
   ]
  },
  {
   "cell_type": "code",
   "execution_count": null,
   "id": "5b52738d",
   "metadata": {},
   "outputs": [],
   "source": [
    "# Use MetricsCalculator to merge data\n",
    "calc = MetricsCalculator()\n",
    "merged_data = calc.merge_lf_otp_by_route_month(lf_top5, otp_top5)\n",
    "\n",
    "print(f\"Merged dataset shape: {merged_data.shape}\")\n",
    "print(f\"Date range: {merged_data['DATE'].min()} to {merged_data['DATE'].max()}\")\n",
    "print(f\"\\nRoutes in merged data: {merged_data['ROUTE'].nunique()}\")\n",
    "merged_data.head(10)\n",
    "\n",
    "\n",
    "# Check data availability by route\n",
    "route_counts = merged_data.groupby('ROUTE').size().sort_values(ascending=False)\n",
    "print(\"Number of months with data by route:\")\n",
    "print(route_counts)"
   ]
  },
  {
   "cell_type": "markdown",
   "id": "b7c97d40",
   "metadata": {},
   "source": [
    "---\n"
   ]
  },
  {
   "cell_type": "markdown",
   "id": "db6a582c",
   "metadata": {},
   "source": [
    "### Cell 3. Calculate Summary Statistics by Route"
   ]
  },
  {
   "cell_type": "code",
   "execution_count": null,
   "id": "a6a4811c",
   "metadata": {},
   "outputs": [],
   "source": [
    "# Calculate summary statistics for each route\n",
    "summary_stats = []\n",
    "\n",
    "for route in top_routes:\n",
    "    stats = calc.route_summary_stats(merged_data, route)\n",
    "    if stats:\n",
    "        summary_stats.append(stats)\n",
    "\n",
    "summary_df = pd.DataFrame(summary_stats)\n",
    "summary_df = summary_df.sort_values('total_flights', ascending=False)\n",
    "\n",
    "print(\"\\nSummary Statistics by Route:\")\n",
    "print(\"=\"*100)\n",
    "summary_df\n",
    "\n",
    "\n",
    "# Display correlations more clearly\n",
    "print(\"\\nLoad Factor vs OTP Correlations:\")\n",
    "print(\"=\"*80)\n",
    "correlation_summary = summary_df[[\n",
    "    'route', 'corr_lf_dep_ontime', 'corr_lf_dep_pvalue', \n",
    "    'corr_lf_arr_ontime', 'corr_lf_arr_pvalue'\n",
    "]].copy()\n",
    "\n",
    "# Add significance markers\n",
    "def add_significance(row):\n",
    "    dep_sig = '***' if row['corr_lf_dep_pvalue'] < 0.001 else \\\n",
    "              '**' if row['corr_lf_dep_pvalue'] < 0.01 else \\\n",
    "              '*' if row['corr_lf_dep_pvalue'] < 0.05 else 'ns'\n",
    "    arr_sig = '***' if row['corr_lf_arr_pvalue'] < 0.001 else \\\n",
    "              '**' if row['corr_lf_arr_pvalue'] < 0.01 else \\\n",
    "              '*' if row['corr_lf_arr_pvalue'] < 0.05 else 'ns'\n",
    "    return pd.Series([dep_sig, arr_sig])\n",
    "\n",
    "correlation_summary[['dep_sig', 'arr_sig']] = correlation_summary.apply(add_significance, axis=1)\n",
    "print(correlation_summary)\n",
    "print(\"\\nSignificance: *** p<0.001, ** p<0.01, * p<0.05, ns = not significant\")\n"
   ]
  },
  {
   "cell_type": "markdown",
   "id": "64585698",
   "metadata": {},
   "source": [
    "---\n"
   ]
  },
  {
   "cell_type": "markdown",
   "id": "eb9bed1d",
   "metadata": {},
   "source": [
    "### Cell 4. Visualize Overall Relationship"
   ]
  },
  {
   "cell_type": "code",
   "execution_count": null,
   "id": "e820a24e",
   "metadata": {},
   "outputs": [],
   "source": [
    "# Scatter plot: Load Factor vs Departure On-Time Performance (All Routes)\n",
    "fig, axes = plt.subplots(1, 2, figsize=(16, 6))\n",
    "\n",
    "# Departure OTP\n",
    "for route in top_routes:\n",
    "    route_data = merged_data[merged_data['ROUTE'] == route]\n",
    "    axes[0].scatter(route_data['LOAD_FACTOR'], route_data['DEP_ONTIME_PCT'], \n",
    "                    label=route, alpha=0.6, s=50)\n",
    "\n",
    "axes[0].set_xlabel('Load Factor (%)', fontsize=12)\n",
    "axes[0].set_ylabel('Departure On-Time Performance (%)', fontsize=12)\n",
    "axes[0].set_title('Load Factor vs Departure OTP', fontsize=13, fontweight='bold')\n",
    "axes[0].legend(loc='best', fontsize=9)\n",
    "axes[0].grid(True, alpha=0.3)\n",
    "\n",
    "# Arrival OTP\n",
    "for route in top_routes:\n",
    "    route_data = merged_data[merged_data['ROUTE'] == route]\n",
    "    axes[1].scatter(route_data['LOAD_FACTOR'], route_data['ARR_ONTIME_PCT'], \n",
    "                    label=route, alpha=0.6, s=50)\n",
    "\n",
    "axes[1].set_xlabel('Load Factor (%)', fontsize=12)\n",
    "axes[1].set_ylabel('Arrival On-Time Performance (%)', fontsize=12)\n",
    "axes[1].set_title('Load Factor vs Arrival OTP', fontsize=13, fontweight='bold')\n",
    "axes[1].legend(loc='best', fontsize=9)\n",
    "axes[1].grid(True, alpha=0.3)\n",
    "\n",
    "plt.tight_layout()\n",
    "plt.show()"
   ]
  },
  {
   "cell_type": "markdown",
   "id": "7d39c101",
   "metadata": {},
   "source": [
    "---\n"
   ]
  },
  {
   "cell_type": "markdown",
   "id": "43c73f6d",
   "metadata": {},
   "source": [
    "### Cell 5. Individual Route Analysis"
   ]
  },
  {
   "cell_type": "code",
   "execution_count": null,
   "id": "dd006b04",
   "metadata": {},
   "outputs": [],
   "source": [
    "# Create detailed plots for each route\n",
    "for route in top_routes:\n",
    "    route_data = merged_data[merged_data['ROUTE'] == route]\n",
    "    \n",
    "    if len(route_data) == 0:\n",
    "        continue\n",
    "    \n",
    "    fig, axes = plt.subplots(2, 2, figsize=(16, 12))\n",
    "    fig.suptitle(f'Route: {route}', fontsize=16, fontweight='bold', y=1.00)\n",
    "    \n",
    "    # Plot 1: Time series - Load Factor\n",
    "    ax1 = axes[0, 0]\n",
    "    ax1.plot(route_data['DATE'], route_data['LOAD_FACTOR'], \n",
    "             marker='o', linewidth=2, markersize=5, color='#FF6B35')\n",
    "    ax1.set_xlabel('Date', fontsize=11)\n",
    "    ax1.set_ylabel('Load Factor (%)', fontsize=11)\n",
    "    ax1.set_title('Load Factor Over Time', fontsize=12, fontweight='bold')\n",
    "    ax1.grid(True, alpha=0.3)\n",
    "    ax1.axhline(y=route_data['LOAD_FACTOR'].mean(), color='red', \n",
    "                linestyle='--', alpha=0.5, label=f\"Mean: {route_data['LOAD_FACTOR'].mean():.1f}%\")\n",
    "    ax1.legend()\n",
    "    \n",
    "    # Plot 2: Time series - OTP\n",
    "    ax2 = axes[0, 1]\n",
    "    ax2.plot(route_data['DATE'], route_data['DEP_ONTIME_PCT'], \n",
    "             marker='o', linewidth=2, markersize=5, label='Departure', color='#004E89')\n",
    "    ax2.plot(route_data['DATE'], route_data['ARR_ONTIME_PCT'], \n",
    "             marker='s', linewidth=2, markersize=5, label='Arrival', color='#F77F00')\n",
    "    ax2.set_xlabel('Date', fontsize=11)\n",
    "    ax2.set_ylabel('On-Time Performance (%)', fontsize=11)\n",
    "    ax2.set_title('On-Time Performance Over Time', fontsize=12, fontweight='bold')\n",
    "    ax2.legend()\n",
    "    ax2.grid(True, alpha=0.3)\n",
    "    \n",
    "    # Plot 3: Scatter - Load Factor vs Departure OTP\n",
    "    ax3 = axes[1, 0]\n",
    "    ax3.scatter(route_data['LOAD_FACTOR'], route_data['DEP_ONTIME_PCT'], \n",
    "                alpha=0.6, s=80, color='#004E89')\n",
    "    \n",
    "    # Add regression line\n",
    "    z = np.polyfit(route_data['LOAD_FACTOR'], route_data['DEP_ONTIME_PCT'], 1)\n",
    "    p = np.poly1d(z)\n",
    "    ax3.plot(route_data['LOAD_FACTOR'], p(route_data['LOAD_FACTOR']), \n",
    "             \"r--\", alpha=0.8, linewidth=2)\n",
    "    \n",
    "    corr = calc.calculate_correlation(route_data, 'LOAD_FACTOR', 'DEP_ONTIME_PCT')\n",
    "    ax3.set_xlabel('Load Factor (%)', fontsize=11)\n",
    "    ax3.set_ylabel('Departure On-Time (%)', fontsize=11)\n",
    "    ax3.set_title(f\"Load Factor vs Departure OTP\\n\" +\n",
    "                  f\"Correlation: {corr['correlation']:.3f} (p={corr['p_value']:.4f})\", \n",
    "                  fontsize=12, fontweight='bold')\n",
    "    ax3.grid(True, alpha=0.3)\n",
    "    \n",
    "    # Plot 4: Scatter - Load Factor vs Arrival OTP\n",
    "    ax4 = axes[1, 1]\n",
    "    ax4.scatter(route_data['LOAD_FACTOR'], route_data['ARR_ONTIME_PCT'], \n",
    "                alpha=0.6, s=80, color='#F77F00')\n",
    "    \n",
    "    # Add regression line\n",
    "    z = np.polyfit(route_data['LOAD_FACTOR'], route_data['ARR_ONTIME_PCT'], 1)\n",
    "    p = np.poly1d(z)\n",
    "    ax4.plot(route_data['LOAD_FACTOR'], p(route_data['LOAD_FACTOR']), \n",
    "             \"r--\", alpha=0.8, linewidth=2)\n",
    "    \n",
    "    corr = calc.calculate_correlation(route_data, 'LOAD_FACTOR', 'ARR_ONTIME_PCT')\n",
    "    ax4.set_xlabel('Load Factor (%)', fontsize=11)\n",
    "    ax4.set_ylabel('Arrival On-Time (%)', fontsize=11)\n",
    "    ax4.set_title(f\"Load Factor vs Arrival OTP\\n\" +\n",
    "                  f\"Correlation: {corr['correlation']:.3f} (p={corr['p_value']:.4f})\", \n",
    "                  fontsize=12, fontweight='bold')\n",
    "    ax4.grid(True, alpha=0.3)\n",
    "    \n",
    "    plt.tight_layout()\n",
    "    plt.show()\n",
    "    \n",
    "    print(f\"\\n{'='*80}\")\n",
    "    print(f\"Route {route} - Key Metrics:\")\n",
    "    print(f\"{'='*80}\")\n",
    "    print(f\"Average Load Factor: {route_data['LOAD_FACTOR'].mean():.2f}%\")\n",
    "    print(f\"Average Departure OTP: {route_data['DEP_ONTIME_PCT'].mean():.2f}%\")\n",
    "    print(f\"Average Arrival OTP: {route_data['ARR_ONTIME_PCT'].mean():.2f}%\")\n",
    "    print(f\"Total Flights Analyzed: {route_data['TOTAL_FLIGHTS'].sum():,.0f}\")\n",
    "    print(f\"\\n\")"
   ]
  },
  {
   "cell_type": "markdown",
   "id": "5d9d0bd7",
   "metadata": {},
   "source": [
    "---\n"
   ]
  },
  {
   "cell_type": "markdown",
   "id": "5d3e6db5",
   "metadata": {},
   "source": [
    "### Cell 6. Correlation Heatmap"
   ]
  },
  {
   "cell_type": "code",
   "execution_count": null,
   "id": "c4e71eb6",
   "metadata": {},
   "outputs": [],
   "source": [
    "# Create correlation matrix for key variables\n",
    "corr_vars = ['LOAD_FACTOR', 'DEP_ONTIME_PCT', 'ARR_ONTIME_PCT', \n",
    "             'CANCELLATION_PCT', 'TOTAL_FLIGHTS']\n",
    "corr_matrix = merged_data[corr_vars].corr()\n",
    "\n",
    "# Plot heatmap\n",
    "plt.figure(figsize=(10, 8))\n",
    "sns.heatmap(corr_matrix, annot=True, fmt='.3f', cmap='coolwarm', \n",
    "            center=0, square=True, linewidths=1,\n",
    "            cbar_kws={\"shrink\": 0.8})\n",
    "plt.title('Correlation Matrix: Load Factor and OTP Metrics (All Top 5 Routes)', \n",
    "          fontsize=14, fontweight='bold', pad=20)\n",
    "plt.tight_layout()\n",
    "plt.show()"
   ]
  },
  {
   "cell_type": "markdown",
   "id": "f8f5137e",
   "metadata": {},
   "source": [
    "---\n"
   ]
  },
  {
   "cell_type": "markdown",
   "id": "a8e8fa81",
   "metadata": {},
   "source": [
    "### Cell 7. Load Factor Bins Analysis"
   ]
  },
  {
   "cell_type": "code",
   "execution_count": null,
   "id": "b0f88e68",
   "metadata": {},
   "outputs": [],
   "source": [
    "# Create load factor bins\n",
    "merged_data['LF_BIN'] = pd.cut(merged_data['LOAD_FACTOR'], \n",
    "                                bins=[0, 70, 75, 80, 85, 100],\n",
    "                                labels=['<70%', '70-75%', '75-80%', '80-85%', '85%+'])\n",
    "\n",
    "# Calculate average OTP by load factor bin\n",
    "bin_analysis = merged_data.groupby('LF_BIN').agg({\n",
    "    'DEP_ONTIME_PCT': ['mean', 'std'],\n",
    "    'ARR_ONTIME_PCT': ['mean', 'std'],\n",
    "    'CANCELLATION_PCT': 'mean',\n",
    "    'TOTAL_FLIGHTS': 'sum'\n",
    "}).round(2)\n",
    "\n",
    "print(\"OTP by Load Factor Bin:\")\n",
    "print(bin_analysis)\n",
    "\n",
    "\n",
    "# Visualize OTP by load factor bins\n",
    "bin_summary = merged_data.groupby('LF_BIN').agg({\n",
    "    'DEP_ONTIME_PCT': 'mean',\n",
    "    'ARR_ONTIME_PCT': 'mean'\n",
    "}).reset_index()\n",
    "\n",
    "fig, ax = plt.subplots(figsize=(12, 6))\n",
    "x = np.arange(len(bin_summary))\n",
    "width = 0.35\n",
    "\n",
    "ax.bar(x - width/2, bin_summary['DEP_ONTIME_PCT'], width, \n",
    "       label='Departure OTP', color='#004E89')\n",
    "ax.bar(x + width/2, bin_summary['ARR_ONTIME_PCT'], width, \n",
    "       label='Arrival OTP', color='#F77F00')\n",
    "\n",
    "ax.set_xlabel('Load Factor Bin', fontsize=12)\n",
    "ax.set_ylabel('On-Time Performance (%)', fontsize=12)\n",
    "ax.set_title('Average OTP by Load Factor Bin', fontsize=14, fontweight='bold')\n",
    "ax.set_xticks(x)\n",
    "ax.set_xticklabels(bin_summary['LF_BIN'])\n",
    "ax.legend()\n",
    "ax.grid(True, alpha=0.3, axis='y')\n",
    "\n",
    "plt.tight_layout()\n",
    "plt.show()"
   ]
  },
  {
   "cell_type": "markdown",
   "id": "07f3d437",
   "metadata": {},
   "source": [
    "---\n"
   ]
  },
  {
   "cell_type": "markdown",
   "id": "b38b2698",
   "metadata": {},
   "source": [
    "### Cell 8. Statistical Testing"
   ]
  },
  {
   "cell_type": "code",
   "execution_count": null,
   "id": "11dfd799",
   "metadata": {},
   "outputs": [],
   "source": [
    "# Perform statistical tests for overall relationship\n",
    "print(\"Overall Statistical Analysis (All Top 5 Routes Combined)\")\n",
    "print(\"=\"*80)\n",
    "\n",
    "# Pearson correlation\n",
    "pearson_dep = calc.calculate_correlation(merged_data, 'LOAD_FACTOR', 'DEP_ONTIME_PCT', method='pearson')\n",
    "pearson_arr = calc.calculate_correlation(merged_data, 'LOAD_FACTOR', 'ARR_ONTIME_PCT', method='pearson')\n",
    "\n",
    "print(\"\\nLoad Factor vs Departure OTP:\")\n",
    "print(f\"  Pearson r = {pearson_dep['correlation']:.4f}, p = {pearson_dep['p_value']:.6f}, n = {pearson_dep['n']}\")\n",
    "\n",
    "print(\"\\nLoad Factor vs Arrival OTP:\")\n",
    "print(f\"  Pearson r = {pearson_arr['correlation']:.4f}, p = {pearson_arr['p_value']:.6f}, n = {pearson_arr['n']}\")\n",
    "\n",
    "# Spearman correlation (non-parametric)\n",
    "spearman_dep = calc.calculate_correlation(merged_data, 'LOAD_FACTOR', 'DEP_ONTIME_PCT', method='spearman')\n",
    "spearman_arr = calc.calculate_correlation(merged_data, 'LOAD_FACTOR', 'ARR_ONTIME_PCT', method='spearman')\n",
    "\n",
    "print(\"\\nSpearman Rank Correlation (Load Factor vs Departure OTP):\")\n",
    "print(f\"  Spearman ρ = {spearman_dep['correlation']:.4f}, p = {spearman_dep['p_value']:.6f}\")\n",
    "\n",
    "print(\"\\nSpearman Rank Correlation (Load Factor vs Arrival OTP):\")\n",
    "print(f\"  Spearman ρ = {spearman_arr['correlation']:.4f}, p = {spearman_arr['p_value']:.6f}\")"
   ]
  },
  {
   "cell_type": "markdown",
   "id": "14d102c4",
   "metadata": {},
   "source": [
    "---\n"
   ]
  },
  {
   "cell_type": "markdown",
   "id": "50de08e9",
   "metadata": {},
   "source": [
    "### Cell 9. Save Results"
   ]
  },
  {
   "cell_type": "code",
   "execution_count": null,
   "id": "9e51c131",
   "metadata": {},
   "outputs": [],
   "source": [
    "# Save merged data and summary statistics\n",
    "import os\n",
    "merged_path = '../data/processed/merged_lf_otp_top5.csv'\n",
    "summary_path = '../data/processed/route_summary_statistics.csv'\n",
    "\n",
    "if os.path.exists(merged_path) and os.path.exists(summary_path):\n",
    "    print(\"Merged data and summary statistics already exist in data/processed/. Skipping save.\")\n",
    "else:\n",
    "    merged_data.to_csv(merged_path, index=False)\n",
    "    summary_df.to_csv(summary_path, index=False)\n",
    "    print(\"Analysis results saved to data/processed/\")"
   ]
  },
  {
   "cell_type": "markdown",
   "id": "a8859f53",
   "metadata": {},
   "source": [
    "---\n"
   ]
  },
  {
   "cell_type": "markdown",
   "id": "b4b34def",
   "metadata": {},
   "source": [
    "## Key Findings\n",
    "\n",
    "This analysis investigates the relationship between **Load Factor** and **On-Time Performance (OTP)** for Southwest Airlines' top 5 domestic routes from **2020 to 2025**.\n",
    "\n",
    "### Statistical Summary:\n",
    "- The **correlation analysis** highlights the strength and direction of the relationship between **Load Factor** and **OTP**.\n",
    "- **Route-specific patterns** exhibit varying relationships across different markets.\n",
    "- The **Load Factor bins analysis** demonstrates how OTP fluctuates at different levels of capacity utilization.\n",
    "\n",
    "**Note:** Detailed findings and business implications will be included in the final report.\n"
   ]
  },
  {
   "cell_type": "markdown",
   "id": "0fb7bcdc",
   "metadata": {},
   "source": [
    "---\n"
   ]
  },
  {
   "cell_type": "markdown",
   "id": "a51ea7cf",
   "metadata": {},
   "source": [
    "### Please see the Final Report in \" `reports/final_report_completed.md` \"\n",
    "\n",
    "#### Note: Running the Python file \"generate_report.py\" will automatically generate a copy of the report. However, the Final Report *is* alreayd provided."
   ]
  }
 ],
 "metadata": {
  "kernelspec": {
   "display_name": "venv",
   "language": "python",
   "name": "python3"
  },
  "language_info": {
   "codemirror_mode": {
    "name": "ipython",
    "version": 3
   },
   "file_extension": ".py",
   "mimetype": "text/x-python",
   "name": "python",
   "nbconvert_exporter": "python",
   "pygments_lexer": "ipython3",
   "version": "3.13.7"
  }
 },
 "nbformat": 4,
 "nbformat_minor": 5
}
