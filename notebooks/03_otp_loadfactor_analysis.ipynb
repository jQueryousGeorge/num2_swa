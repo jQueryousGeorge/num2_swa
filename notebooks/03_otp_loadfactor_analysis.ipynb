{
 "cells": [
  {
   "cell_type": "markdown",
   "id": "737f0a8c",
   "metadata": {},
   "source": [
    "# OTP vs. Load Factor Analysis: Southwest's Top 5 Routes\n",
    "\n",
    "This notebook analyzes the relationship between **Southwest Airlines' On-Time Performance (OTP)** and **Load Factor** on the top 5 domestic routes.\n",
    "\n",
    "**Research Question:**  \n",
    "How does Southwest's OTP relate to the Load Factor of its flights on the top 5 domestic routes?\n",
    "\n",
    "---\n",
    "\n",
    "## Import Libraries and Setup\n"
   ]
  },
  {
   "cell_type": "code",
   "execution_count": 1,
   "id": "25ca6386",
   "metadata": {},
   "outputs": [],
   "source": [
    "import pandas as pd\n",
    "import numpy as np\n",
    "import matplotlib.pyplot as plt\n",
    "import seaborn as sns\n",
    "from scipy import stats\n",
    "import sys\n",
    "sys.path.append('..')\n",
    "\n",
    "from src import MetricsCalculator\n",
    "\n",
    "# Set display options\n",
    "pd.set_option('display.max_columns', None)\n",
    "pd.set_option('display.float_format', '{:.2f}'.format)\n",
    "\n",
    "# Set plotting style\n",
    "sns.set_style('whitegrid')\n",
    "plt.rcParams['figure.figsize'] = (12, 6)\n",
    "\n",
    "# %matplotlib inline"
   ]
  }
 ],
 "metadata": {
  "kernelspec": {
   "display_name": "venv",
   "language": "python",
   "name": "python3"
  },
  "language_info": {
   "codemirror_mode": {
    "name": "ipython",
    "version": 3
   },
   "file_extension": ".py",
   "mimetype": "text/x-python",
   "name": "python",
   "nbconvert_exporter": "python",
   "pygments_lexer": "ipython3",
   "version": "3.13.7"
  }
 },
 "nbformat": 4,
 "nbformat_minor": 5
}
