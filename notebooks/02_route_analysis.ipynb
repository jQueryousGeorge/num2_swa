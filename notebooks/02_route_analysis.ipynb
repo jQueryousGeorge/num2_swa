{
 "cells": [
  {
   "cell_type": "markdown",
   "id": "ed5b8849",
   "metadata": {},
   "source": [
    "# Route Analysis: Identifying Southwest's Top 5 Domestic Routes\n",
    "\n",
    "This notebook identifies Southwest Airlines' busiest domestic routes based on passenger volume from **January 2020 to June 2025**.\n",
    "\n",
    "**Objective:**  \n",
    "Determine the top 5 routes to focus our **On-Time Performance (OTP)** vs. **Load Factor** analysis.\n",
    "\n",
    "---\n",
    "\n",
    "## Import Libraries and Setup\n"
   ]
  },
  {
   "cell_type": "code",
   "execution_count": null,
   "id": "13c45d11",
   "metadata": {},
   "outputs": [],
   "source": [
    "import pandas as pd\n",
    "import numpy as np\n",
    "import matplotlib.pyplot as plt\n",
    "import seaborn as sns\n",
    "import sys\n",
    "sys.path.append('..')\n",
    "\n",
    "from src import DataCleaner\n",
    "\n",
    "# Set display options\n",
    "pd.set_option('display.max_columns', None)\n",
    "\n",
    "# Set plotting style\n",
    "sns.set_style('whitegrid')\n",
    "plt.rcParams['figure.figsize'] = (12, 6)\n",
    "\n",
    "# %matplotlib inline"
   ]
  },
  {
   "cell_type": "markdown",
   "id": "fdb27b3b",
   "metadata": {},
   "source": [
    "---\n"
   ]
  },
  {
   "cell_type": "markdown",
   "id": "8c2d824f",
   "metadata": {},
   "source": [
    "### Cell 1. Load Cleaned Data"
   ]
  },
  {
   "cell_type": "code",
   "execution_count": null,
   "id": "7e111a4b",
   "metadata": {},
   "outputs": [],
   "source": [
    "# Load cleaned Southwest data from previous notebook\n",
    "lf_clean = pd.read_csv('../data/processed/lf_clean_southwest.csv')\n",
    "otp_clean = pd.read_csv('../data/processed/otp_clean_southwest.csv')\n",
    "\n",
    "# Convert DATE columns to datetime\n",
    "lf_clean['DATE'] = pd.to_datetime(lf_clean['DATE'])\n",
    "otp_clean['DATE'] = pd.to_datetime(otp_clean['DATE'])\n",
    "\n",
    "print(f\"Load Factor records: {len(lf_clean):,}\")\n",
    "print(f\"OTP records: {len(otp_clean):,}\")"
   ]
  },
  {
   "cell_type": "markdown",
   "id": "374c9204",
   "metadata": {},
   "source": [
    "---\n"
   ]
  },
  {
   "cell_type": "markdown",
   "id": "afbbf432",
   "metadata": {},
   "source": [
    "### Cell 2. Identify Top Routes by Total Passengers"
   ]
  },
  {
   "cell_type": "code",
   "execution_count": null,
   "id": "84338e1e",
   "metadata": {},
   "outputs": [],
   "source": [
    "# Use DataCleaner to get top 5 routes\n",
    "cleaner = DataCleaner(carrier_code='WN')\n",
    "top_5_routes = cleaner.get_top_routes(lf_clean, n=5, metric='PASSENGERS')\n",
    "\n",
    "\n",
    "# Get detailed statistics for top 5 routes\n",
    "route_stats = lf_clean.groupby('ROUTE').agg({\n",
    "    'PASSENGERS': 'sum',\n",
    "    'SEATS': 'sum',\n",
    "    'DEPARTURES_PERFORMED': 'sum',\n",
    "    'DATE': ['min', 'max']\n",
    "}).round(0)\n",
    "\n",
    "route_stats.columns = ['Total_Passengers', 'Total_Seats', 'Total_Flights', 'First_Date', 'Last_Date']\n",
    "route_stats['Load_Factor'] = (route_stats['Total_Passengers'] / route_stats['Total_Seats'] * 100).round(2)\n",
    "route_stats = route_stats.sort_values('Total_Passengers', ascending=False)\n",
    "\n",
    "print(\"\\nTop 10 Routes - Detailed Statistics:\")\n",
    "print(route_stats.head(10))\n",
    "\n",
    "\n",
    "# Visualize top 10 routes by passengers\n",
    "top_10_stats = route_stats.head(10)\n",
    "\n",
    "fig, ax = plt.subplots(figsize=(12, 8))\n",
    "bars = ax.barh(range(len(top_10_stats)), top_10_stats['Total_Passengers'] / 1e6)\n",
    "ax.set_yticks(range(len(top_10_stats)))\n",
    "ax.set_yticklabels(top_10_stats.index)\n",
    "ax.set_xlabel('Total Passengers (Millions)', fontsize=12)\n",
    "ax.set_title('Southwest Airlines: Top 10 Routes by Total Passengers (2020-2025)', \n",
    "             fontsize=14, fontweight='bold')\n",
    "ax.invert_yaxis()\n",
    "\n",
    "# Add value labels\n",
    "for i, (idx, row) in enumerate(top_10_stats.iterrows()):\n",
    "    ax.text(row['Total_Passengers'] / 1e6 + 0.1, i, \n",
    "            f\"{row['Total_Passengers']/1e6:.2f}M\", \n",
    "            va='center', fontsize=10)\n",
    "\n",
    "# Color top 5 differently\n",
    "for i in range(5):\n",
    "    bars[i].set_color('#FF6B35')\n",
    "for i in range(5, 10):\n",
    "    bars[i].set_color('#004E89')\n",
    "\n",
    "plt.tight_layout()\n",
    "plt.show()"
   ]
  },
  {
   "cell_type": "markdown",
   "id": "5740cd48",
   "metadata": {},
   "source": [
    "---\n"
   ]
  },
  {
   "cell_type": "markdown",
   "id": "301636ea",
   "metadata": {},
   "source": [
    "### Cell 3. Examine Top 5 Routes in Detail"
   ]
  },
  {
   "cell_type": "code",
   "execution_count": null,
   "id": "6de86955",
   "metadata": {},
   "outputs": [],
   "source": [
    "# Get airport city names for context\n",
    "airport_names = {\n",
    "    'DEN': 'Denver', 'PHX': 'Phoenix', 'MDW': 'Chicago (Midway)', \n",
    "    'LAS': 'Las Vegas', 'BWI': 'Baltimore', 'DAL': 'Dallas (Love Field)',\n",
    "    'HOU': 'Houston (Hobby)', 'LAX': 'Los Angeles', 'SAN': 'San Diego',\n",
    "    'MCO': 'Orlando', 'ATL': 'Atlanta', 'OAK': 'Oakland', 'SMF': 'Sacramento'\n",
    "}\n",
    "\n",
    "print(\"\\n\" + \"=\"*80)\n",
    "print(\"TOP 5 SOUTHWEST ROUTES BY PASSENGER VOLUME (2020-2025)\")\n",
    "print(\"=\"*80)\n",
    "\n",
    "for i, route in enumerate(top_5_routes, 1):\n",
    "    route_data = route_stats.loc[route]\n",
    "    airports = route.split('-')\n",
    "    \n",
    "    # Get city names\n",
    "    city1 = airport_names.get(airports[0], airports[0])\n",
    "    city2 = airport_names.get(airports[1], airports[1])\n",
    "    \n",
    "    print(f\"\\n{i}. {route}: {city1} ↔ {city2}\")\n",
    "    print(f\"   Total Passengers: {route_data['Total_Passengers']:,.0f}\")\n",
    "    print(f\"   Total Flights: {route_data['Total_Flights']:,.0f}\")\n",
    "    print(f\"   Average Load Factor: {route_data['Load_Factor']:.2f}%\")\n",
    "    print(f\"   Date Range: {route_data['First_Date']} to {route_data['Last_Date']}\")"
   ]
  },
  {
   "cell_type": "markdown",
   "id": "bfba2699",
   "metadata": {},
   "source": [
    "---\n"
   ]
  },
  {
   "cell_type": "markdown",
   "id": "e954c714",
   "metadata": {},
   "source": [
    "### Cell 4. Monthly Trends for Top 5 Routes"
   ]
  },
  {
   "cell_type": "code",
   "execution_count": null,
   "id": "11eb94db",
   "metadata": {},
   "outputs": [],
   "source": [
    "# Filter data for top 5 routes\n",
    "lf_top5 = lf_clean[lf_clean['ROUTE'].isin(top_5_routes)].copy()\n",
    "otp_top5 = otp_clean[otp_clean['ROUTE'].isin(top_5_routes)].copy()\n",
    "\n",
    "print(f\"Load Factor records for top 5 routes: {len(lf_top5):,}\")\n",
    "print(f\"OTP records for top 5 routes: {len(otp_top5):,}\")\n",
    "\n",
    "\n",
    "# Calculate monthly passengers for each route\n",
    "monthly_passengers = lf_top5.groupby(['ROUTE', 'DATE'])['PASSENGERS'].sum().reset_index()\n",
    "\n",
    "# Plot monthly passenger trends\n",
    "fig, ax = plt.subplots(figsize=(14, 7))\n",
    "\n",
    "for route in top_5_routes:\n",
    "    route_data = monthly_passengers[monthly_passengers['ROUTE'] == route]\n",
    "    ax.plot(route_data['DATE'], route_data['PASSENGERS'], \n",
    "            marker='o', label=route, linewidth=2, markersize=4)\n",
    "\n",
    "ax.set_title('Monthly Passenger Volume: Top 5 Southwest Routes (2020-2025)', \n",
    "             fontsize=14, fontweight='bold')\n",
    "ax.set_xlabel('Date', fontsize=12)\n",
    "ax.set_ylabel('Monthly Passengers', fontsize=12)\n",
    "ax.legend(loc='best', fontsize=10)\n",
    "ax.grid(True, alpha=0.3)\n",
    "plt.tight_layout()\n",
    "plt.show()\n",
    "\n",
    "\n",
    "# Calculate monthly load factor for each route\n",
    "monthly_lf = lf_top5.groupby(['ROUTE', 'DATE']).apply(\n",
    "    lambda x: (x['PASSENGERS'].sum() / x['SEATS'].sum() * 100)\n",
    ").reset_index()\n",
    "monthly_lf.columns = ['ROUTE', 'DATE', 'LOAD_FACTOR']\n",
    "\n",
    "# Plot monthly load factor trends\n",
    "fig, ax = plt.subplots(figsize=(14, 7))\n",
    "\n",
    "for route in top_5_routes:\n",
    "    route_data = monthly_lf[monthly_lf['ROUTE'] == route]\n",
    "    ax.plot(route_data['DATE'], route_data['LOAD_FACTOR'], \n",
    "            marker='o', label=route, linewidth=2, markersize=4)\n",
    "\n",
    "ax.set_title('Monthly Load Factor: Top 5 Southwest Routes (2020-2025)', \n",
    "             fontsize=14, fontweight='bold')\n",
    "ax.set_xlabel('Date', fontsize=12)\n",
    "ax.set_ylabel('Load Factor (%)', fontsize=12)\n",
    "ax.legend(loc='best', fontsize=10)\n",
    "ax.grid(True, alpha=0.3)\n",
    "ax.axhline(y=80, color='red', linestyle='--', alpha=0.5, label='80% threshold')\n",
    "plt.tight_layout()\n",
    "plt.show()"
   ]
  },
  {
   "cell_type": "markdown",
   "id": "4132a92c",
   "metadata": {},
   "source": [
    "---\n"
   ]
  },
  {
   "cell_type": "markdown",
   "id": "082f5c7e",
   "metadata": {},
   "source": [
    "### Cell 5. Check Data Availability for Both Datasets"
   ]
  },
  {
   "cell_type": "code",
   "execution_count": null,
   "id": "70bcb2a9",
   "metadata": {},
   "outputs": [],
   "source": [
    "# Check which routes have data in both datasets\n",
    "lf_routes = set(lf_top5['ROUTE'].unique())\n",
    "otp_routes = set(otp_top5['ROUTE'].unique())\n",
    "\n",
    "print(\"Routes in Load Factor data:\", lf_routes)\n",
    "print(\"Routes in OTP data:\", otp_routes)\n",
    "print(\"\\nRoutes in BOTH datasets:\", lf_routes.intersection(otp_routes))\n",
    "print(\"Routes ONLY in Load Factor:\", lf_routes - otp_routes)\n",
    "print(\"Routes ONLY in OTP:\", otp_routes - lf_routes)\n",
    "\n",
    "\n",
    "# Check date coverage for each route\n",
    "print(\"\\nDate Coverage by Route:\")\n",
    "print(\"=\"*80)\n",
    "\n",
    "for route in top_5_routes:\n",
    "    lf_route = lf_top5[lf_top5['ROUTE'] == route]\n",
    "    otp_route = otp_top5[otp_top5['ROUTE'] == route]\n",
    "    \n",
    "    print(f\"\\n{route}:\")\n",
    "    print(f\"  Load Factor: {lf_route['DATE'].min()} to {lf_route['DATE'].max()} \"\n",
    "          f\"({len(lf_route['DATE'].unique())} months)\")\n",
    "    print(f\"  OTP:         {otp_route['DATE'].min()} to {otp_route['DATE'].max()} \"\n",
    "          f\"({len(otp_route['DATE'].unique())} months)\")"
   ]
  },
  {
   "cell_type": "markdown",
   "id": "92e505c2",
   "metadata": {},
   "source": [
    "---\n"
   ]
  },
  {
   "cell_type": "markdown",
   "id": "8c305ee5",
   "metadata": {},
   "source": [
    "### Cell 6. Save Top 5 Routes Data"
   ]
  },
  {
   "cell_type": "code",
   "execution_count": null,
   "id": "95b01c3f",
   "metadata": {},
   "outputs": [],
   "source": [
    "# Save filtered data for top 5 routes\n",
    "import os\n",
    "lf_top5_path = '../data/processed/lf_top5_routes.csv'\n",
    "otp_top5_path = '../data/processed/otp_top5_routes.csv'\n",
    "routes_path = '../data/processed/top5_routes.csv'\n",
    "\n",
    "if os.path.exists(lf_top5_path) and os.path.exists(otp_top5_path) and os.path.exists(routes_path):\n",
    "    print(\"Top 5 routes data files already exist in data/processed/. Skipping save.\")\n",
    "else:\n",
    "    lf_top5.to_csv(lf_top5_path, index=False)\n",
    "    otp_top5.to_csv(otp_top5_path, index=False)\n",
    "    pd.DataFrame({'ROUTE': top_5_routes}).to_csv(routes_path, index=False)\n",
    "    print(\"\\nTop 5 routes data saved to data/processed/\")\n",
    "    print(f\"Routes saved: {', '.join(top_5_routes)}\")"
   ]
  },
  {
   "cell_type": "markdown",
   "id": "63b66fa4",
   "metadata": {},
   "source": [
    "---\n"
   ]
  },
  {
   "cell_type": "markdown",
   "id": "4462c9db",
   "metadata": {},
   "source": [
    "## Summary\n",
    "\n",
    "**Top 5 Southwest Domestic Routes**  \n",
    "*(by passenger volume, 2020–2025)*\n",
    "\n",
    "These routes have been selected for further analysis to examine the relationship between **load factor** and **on-time performance (OTP)**.\n",
    "\n",
    "---\n",
    "\n",
    "**Next Steps:**\n",
    "\n",
    "- Merge load factor and OTP data by route and month  \n",
    "- Calculate correlations between load factor and OTP metrics  \n",
    "- Visualize relationships and identify patterns\n"
   ]
  },
  {
   "cell_type": "markdown",
   "id": "03fd9222",
   "metadata": {},
   "source": [
    "---\n"
   ]
  },
  {
   "cell_type": "markdown",
   "id": "5fc9025e",
   "metadata": {},
   "source": [
    "### Please move onto Notebook 3, ' `03_otp_loadfactor_analysis.ipynb` '"
   ]
  }
 ],
 "metadata": {
  "kernelspec": {
   "display_name": "venv",
   "language": "python",
   "name": "python3"
  },
  "language_info": {
   "codemirror_mode": {
    "name": "ipython",
    "version": 3
   },
   "file_extension": ".py",
   "mimetype": "text/x-python",
   "name": "python",
   "nbconvert_exporter": "python",
   "pygments_lexer": "ipython3",
   "version": "3.13.7"
  }
 },
 "nbformat": 4,
 "nbformat_minor": 5
}
