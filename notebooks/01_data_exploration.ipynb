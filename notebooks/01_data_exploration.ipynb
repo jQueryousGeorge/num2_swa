{
 "cells": [
  {
   "cell_type": "markdown",
   "id": "1cd9800f",
   "metadata": {},
   "source": [
    "# Data Exploration: Southwest Airlines OTP and Load Factor Analysis\n",
    "\n",
    "This notebook explores raw data from the **Bureau of Transportation Statistics (BTS)**, specifically:\n",
    "\n",
    "- **Load Factor data** (2020–2025, annual files)  \n",
    "- **On-Time Performance (OTP) data** (2020–2025, monthly files)\n",
    "\n",
    "**Goal:**  \n",
    "Understand the **structure**, **quality**, and **characteristics** of the data to prepare for further analysis.\n",
    "\n",
    "---\n",
    "\n",
    "## Import Libraries and Setup\n"
   ]
  },
  {
   "cell_type": "code",
   "execution_count": null,
   "id": "d16ca47f",
   "metadata": {},
   "outputs": [],
   "source": [
    "import pandas as pd\n",
    "import numpy as np\n",
    "import matplotlib.pyplot as plt\n",
    "import seaborn as sns\n",
    "import sys\n",
    "sys.path.append('..')\n",
    "\n",
    "from src import DataLoader, DataCleaner\n",
    "\n",
    "# Set display options\n",
    "pd.set_option('display.max_columns', None)\n",
    "pd.set_option('display.max_rows', 100)\n",
    "\n",
    "# Set plotting style\n",
    "sns.set_style('whitegrid')\n",
    "plt.rcParams['figure.figsize'] = (12, 6)\n",
    "\n",
    "# %matplotlib inline"
   ]
  },
  {
   "cell_type": "markdown",
   "id": "617f542f",
   "metadata": {},
   "source": [
    "---\n"
   ]
  },
  {
   "cell_type": "markdown",
   "id": "6122384c",
   "metadata": {},
   "source": [
    "### Cell 1. Load Raw Data"
   ]
  },
  {
   "cell_type": "code",
   "execution_count": null,
   "id": "a06fb0e5",
   "metadata": {},
   "outputs": [],
   "source": [
    "# Initialize loader\n",
    "loader = DataLoader(base_path='../data/raw')\n",
    "\n",
    "# Load both datasets\n",
    "lf_raw, otp_raw = loader.load_all_data()"
   ]
  },
  {
   "cell_type": "markdown",
   "id": "cb3d33e7",
   "metadata": {},
   "source": [
    "---\n"
   ]
  },
  {
   "cell_type": "markdown",
   "id": "a4a86a39",
   "metadata": {},
   "source": [
    "### Cell 2. Explore Load Factor Data"
   ]
  },
  {
   "cell_type": "code",
   "execution_count": null,
   "id": "109627a9",
   "metadata": {},
   "outputs": [],
   "source": [
    "print(\"Load Factor Data Shape:\", lf_raw.shape)\n",
    "print(\"\\nColumn Names and Types:\")\n",
    "print(lf_raw.dtypes)\n",
    "print(\"\\nFirst few rows:\")\n",
    "lf_raw.head()\n",
    "\n",
    "\n",
    "# Check for missing values\n",
    "print(\"Missing Values:\")\n",
    "print(lf_raw.isnull().sum())\n",
    "print(f\"\\nPercentage missing:\")\n",
    "print((lf_raw.isnull().sum() / len(lf_raw) * 100).round(2))\n",
    "\n",
    "\n",
    "# Summary statistics\n",
    "lf_raw.describe()\n",
    "\n",
    "\n",
    "# Check unique carriers\n",
    "print(f\"Number of unique carriers: {lf_raw['CARRIER'].nunique()}\")\n",
    "print(\"\\nTop 10 carriers by record count:\")\n",
    "print(lf_raw['CARRIER'].value_counts().head(10))\n",
    "print(f\"\\nSouthwest (WN) records: {len(lf_raw[lf_raw['CARRIER'] == 'WN']):,}\")\n",
    "\n",
    "\n",
    "# Date range in data\n",
    "print(\"Year range:\", lf_raw['YEAR'].min(), \"-\", lf_raw['YEAR'].max())\n",
    "print(\"Month range:\", lf_raw['MONTH'].min(), \"-\", lf_raw['MONTH'].max())\n",
    "\n"
   ]
  },
  {
   "cell_type": "markdown",
   "id": "fa18e498",
   "metadata": {},
   "source": [
    "---\n"
   ]
  },
  {
   "cell_type": "markdown",
   "id": "b20adc2b",
   "metadata": {},
   "source": [
    "### Cell 3. Explore OTP Data"
   ]
  },
  {
   "cell_type": "code",
   "execution_count": null,
   "id": "ec0452ea",
   "metadata": {},
   "outputs": [],
   "source": [
    "print(\"OTP Data Shape:\", otp_raw.shape)\n",
    "print(\"\\nColumn Names and Types:\")\n",
    "print(otp_raw.dtypes)\n",
    "print(\"\\nFirst few rows:\")\n",
    "otp_raw.head()\n",
    "\n",
    "\n",
    "# Check for missing values\n",
    "print(\"Missing Values:\")\n",
    "print(otp_raw.isnull().sum())\n",
    "print(f\"\\nPercentage missing:\")\n",
    "print((otp_raw.isnull().sum() / len(otp_raw) * 100).round(2))\n",
    "\n",
    "\n",
    "# Summary statistics\n",
    "otp_raw.describe()\n",
    "\n",
    "\n",
    "# Check unique carriers\n",
    "print(f\"Number of unique carriers: {otp_raw['OP_UNIQUE_CARRIER'].nunique()}\")\n",
    "print(\"\\nTop 10 carriers by record count:\")\n",
    "print(otp_raw['OP_UNIQUE_CARRIER'].value_counts().head(10))\n",
    "print(f\"\\nSouthwest (WN) records: {len(otp_raw[otp_raw['OP_UNIQUE_CARRIER'] == 'WN']):,}\")\n",
    "\n",
    "\n",
    "# Date range in data\n",
    "print(\"Year range:\", otp_raw['YEAR'].min(), \"-\", otp_raw['YEAR'].max())\n",
    "print(\"Month range:\", otp_raw['MONTH'].min(), \"-\", otp_raw['MONTH'].max())\n"
   ]
  },
  {
   "cell_type": "markdown",
   "id": "b26446c3",
   "metadata": {},
   "source": [
    "---\n"
   ]
  },
  {
   "cell_type": "markdown",
   "id": "8478489b",
   "metadata": {},
   "source": [
    "### Cell 4. Clean Data and Filter for Southwest"
   ]
  },
  {
   "cell_type": "code",
   "execution_count": null,
   "id": "1c66c001",
   "metadata": {},
   "outputs": [],
   "source": [
    "# Initialize cleaner for Southwest (WN)\n",
    "cleaner = DataCleaner(carrier_code='WN')\n",
    "\n",
    "# Clean load factor data\n",
    "lf_clean = cleaner.clean_load_factor_data(lf_raw)\n",
    "print(\"\\n\" + \"=\"*60)\n",
    "\n",
    "# Clean OTP data\n",
    "otp_clean = cleaner.clean_otp_data(otp_raw)"
   ]
  },
  {
   "cell_type": "markdown",
   "id": "92b95a60",
   "metadata": {},
   "source": [
    "---\n"
   ]
  },
  {
   "cell_type": "markdown",
   "id": "b771c7c5",
   "metadata": {},
   "source": [
    "### Cell 5. Explore Southwest-Specific Data"
   ]
  },
  {
   "cell_type": "code",
   "execution_count": null,
   "id": "aae230b9",
   "metadata": {},
   "outputs": [],
   "source": [
    "# Check date coverage for Southwest\n",
    "print(\"Southwest Load Factor Data:\")\n",
    "print(f\"Date range: {lf_clean['DATE'].min()} to {lf_clean['DATE'].max()}\")\n",
    "print(f\"Number of unique routes: {lf_clean['ROUTE'].nunique()}\")\n",
    "print(f\"Number of unique origins: {lf_clean['ORIGIN'].nunique()}\")\n",
    "print(f\"Number of unique destinations: {lf_clean['DEST'].nunique()}\")\n",
    "\n",
    "print(\"\\nSouthwest OTP Data:\")\n",
    "print(f\"Date range: {otp_clean['DATE'].min()} to {otp_clean['DATE'].max()}\")\n",
    "print(f\"Number of unique routes: {otp_clean['ROUTE'].nunique()}\")\n",
    "print(f\"Number of unique origins: {otp_clean['ORIGIN'].nunique()}\")\n",
    "print(f\"Number of unique destinations: {otp_clean['DEST'].nunique()}\")\n",
    "\n",
    "\n",
    "# Calculate basic load factor for Southwest\n",
    "overall_lf = (lf_clean['PASSENGERS'].sum() / lf_clean['SEATS'].sum() * 100)\n",
    "print(f\"Southwest Overall Load Factor (2020-2025): {overall_lf:.2f}%\")\n",
    "\n",
    "\n",
    "# Load factor by year\n",
    "lf_by_year = lf_clean.groupby('YEAR').apply(\n",
    "    lambda x: (x['PASSENGERS'].sum() / x['SEATS'].sum() * 100)\n",
    ")\n",
    "\n",
    "print(\"Load Factor by Year:\")\n",
    "print(lf_by_year)\n",
    "\n",
    "\n",
    "# Visualize load factor trend\n",
    "monthly_lf = lf_clean.groupby('DATE').apply(\n",
    "    lambda x: (x['PASSENGERS'].sum() / x['SEATS'].sum() * 100)\n",
    ").reset_index()\n",
    "monthly_lf.columns = ['DATE', 'LOAD_FACTOR']\n",
    "\n",
    "plt.figure(figsize=(14, 6))\n",
    "plt.plot(monthly_lf['DATE'], monthly_lf['LOAD_FACTOR'], marker='o', linewidth=2)\n",
    "plt.title('Southwest Airlines Load Factor Over Time (2020-2025)', fontsize=14, fontweight='bold')\n",
    "plt.xlabel('Date', fontsize=12)\n",
    "plt.ylabel('Load Factor (%)', fontsize=12)\n",
    "plt.grid(True, alpha=0.3)\n",
    "plt.tight_layout()\n",
    "plt.show()\n",
    "\n",
    "\n",
    "# Calculate basic OTP metrics\n",
    "total_flights = len(otp_clean)\n",
    "dep_ontime_pct = (1 - otp_clean['DEP_DEL15'].sum() / total_flights) * 100\n",
    "arr_ontime_pct = (1 - otp_clean['ARR_DEL15'].sum() / total_flights) * 100\n",
    "cancel_pct = (otp_clean['CANCELLED'].sum() / total_flights) * 100\n",
    "\n",
    "print(f\"Southwest Overall OTP Metrics (2020-2025):\")\n",
    "print(f\"Total flights: {total_flights:,}\")\n",
    "print(f\"Departure On-Time %: {dep_ontime_pct:.2f}%\")\n",
    "print(f\"Arrival On-Time %: {arr_ontime_pct:.2f}%\")\n",
    "print(f\"Cancellation %: {cancel_pct:.2f}%\")\n",
    "\n",
    "\n",
    "# OTP by year\n",
    "otp_by_year = otp_clean.groupby('YEAR').apply(\n",
    "    lambda x: pd.Series({\n",
    "        'flights': len(x),\n",
    "        'dep_ontime_pct': (1 - x['DEP_DEL15'].sum() / len(x)) * 100,\n",
    "        'arr_ontime_pct': (1 - x['ARR_DEL15'].sum() / len(x)) * 100,\n",
    "        'cancel_pct': (x['CANCELLED'].sum() / len(x)) * 100\n",
    "    })\n",
    ")\n",
    "\n",
    "print(\"\\nOTP Metrics by Year:\")\n",
    "print(otp_by_year)\n",
    "\n",
    "\n",
    "# Visualize OTP trend\n",
    "monthly_otp = otp_clean.groupby('DATE').apply(\n",
    "    lambda x: pd.Series({\n",
    "        'dep_ontime_pct': (1 - x['DEP_DEL15'].sum() / len(x)) * 100,\n",
    "        'arr_ontime_pct': (1 - x['ARR_DEL15'].sum() / len(x)) * 100\n",
    "    })\n",
    ").reset_index()\n",
    "\n",
    "fig, ax = plt.subplots(figsize=(14, 6))\n",
    "ax.plot(monthly_otp['DATE'], monthly_otp['dep_ontime_pct'], \n",
    "        marker='o', label='Departure On-Time %', linewidth=2)\n",
    "ax.plot(monthly_otp['DATE'], monthly_otp['arr_ontime_pct'], \n",
    "        marker='s', label='Arrival On-Time %', linewidth=2)\n",
    "ax.set_title('Southwest Airlines On-Time Performance Over Time (2020-2025)', \n",
    "             fontsize=14, fontweight='bold')\n",
    "ax.set_xlabel('Date', fontsize=12)\n",
    "ax.set_ylabel('On-Time Percentage (%)', fontsize=12)\n",
    "ax.legend(fontsize=11)\n",
    "ax.grid(True, alpha=0.3)\n",
    "plt.tight_layout()\n",
    "plt.show()"
   ]
  },
  {
   "cell_type": "markdown",
   "id": "18994081",
   "metadata": {},
   "source": [
    "---\n"
   ]
  },
  {
   "cell_type": "markdown",
   "id": "6fd46adc",
   "metadata": {},
   "source": [
    "### Cell 6. Save Cleaned Data"
   ]
  },
  {
   "cell_type": "code",
   "execution_count": null,
   "id": "d4507054",
   "metadata": {},
   "outputs": [],
   "source": [
    "# Save cleaned data for use in other notebooks\n",
    "import os\n",
    "lf_path = '../data/processed/lf_clean_southwest.csv'\n",
    "otp_path = '../data/processed/otp_clean_southwest.csv'\n",
    "\n",
    "if os.path.exists(lf_path) and os.path.exists(otp_path):\n",
    "    print(\"Cleaned data files already exist in data/processed/. Skipping save.\")\n",
    "else:\n",
    "    lf_clean.to_csv(lf_path, index=False)\n",
    "    otp_clean.to_csv(otp_path, index=False)\n",
    "    print(\"Cleaned data saved to data/processed/\")"
   ]
  },
  {
   "cell_type": "markdown",
   "id": "ebd4e357",
   "metadata": {},
   "source": [
    "---\n"
   ]
  },
  {
   "cell_type": "markdown",
   "id": "9432c7fb",
   "metadata": {},
   "source": [
    "## Key Findings from Exploration\n",
    "\n",
    "1. **Data Quality**:  \n",
    "   Both datasets provide robust coverage of Southwest Airlines from 2020 to 2025.\n",
    "\n",
    "2. **Load Factor Trends**:  \n",
    "   Observable patterns over time, likely reflecting the impact of COVID-19 and subsequent recovery.\n",
    "\n",
    "3. **OTP Trends**:  \n",
    "   On-time performance metrics display variations across the time period.\n",
    "\n",
    "4. **Next Steps**:  \n",
    "   - Identify the top 5 routes by passenger volume.\n",
    "   - Analyze the relationship between load factor and OTP for these routes.\n"
   ]
  },
  {
   "cell_type": "markdown",
   "id": "f27ee92d",
   "metadata": {},
   "source": [
    "---\n"
   ]
  },
  {
   "cell_type": "markdown",
   "id": "4370dbde",
   "metadata": {},
   "source": [
    "### Please move onto Notebook 2, ' `02_route_analysis.ipynb` '"
   ]
  }
 ],
 "metadata": {
  "kernelspec": {
   "display_name": "venv",
   "language": "python",
   "name": "python3"
  },
  "language_info": {
   "codemirror_mode": {
    "name": "ipython",
    "version": 3
   },
   "file_extension": ".py",
   "mimetype": "text/x-python",
   "name": "python",
   "nbconvert_exporter": "python",
   "pygments_lexer": "ipython3",
   "version": "3.12.3"
  }
 },
 "nbformat": 4,
 "nbformat_minor": 5
}
